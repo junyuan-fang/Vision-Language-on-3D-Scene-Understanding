{
 "cells": [
  {
   "cell_type": "code",
   "execution_count": 8,
   "metadata": {},
   "outputs": [
    {
     "name": "stdout",
     "output_type": "stream",
     "text": [
      "input\n",
      "voxelization\n",
      "Voxels shape: (1340,)\n",
      "Voxel with grid_index: (7, 1, 7), color: (0, 0, 0)\n"
     ]
    }
   ],
   "source": [
    "\n",
    "## From mesh to voxel\n",
    "import open3d as o3d    \n",
    "import numpy as np\n",
    "print('input')\n",
    "bunny = o3d.data.BunnyMesh()\n",
    "mesh = o3d.io.read_triangle_mesh(bunny.path)# mesh.vertices (n,3), mersh. triangles (m,3)\n",
    "\n",
    "# fit to unit cube\n",
    "mesh.scale(1 / np.max(mesh.get_max_bound() - mesh.get_min_bound()),\n",
    "           center=mesh.get_center())\n",
    "#o3d.visualization.draw_geometries([mesh])\n",
    "\n",
    "print('voxelization')\n",
    "voxel_grid = o3d.geometry.VoxelGrid.create_from_triangle_mesh(mesh,\n",
    "                                                              voxel_size=0.05)\n",
    "# Access the voxels using get_voxels() method\n",
    "voxels = np.asarray(voxel_grid.get_voxels())\n",
    "print(\"Voxels shape:\", voxels.shape)\n",
    "o3d.visualization.draw_geometries([voxel_grid],window_name='Open3D')\n",
    "print(voxels[0])\n"
   ]
  },
  {
   "cell_type": "code",
   "execution_count": 7,
   "metadata": {},
   "outputs": [
    {
     "name": "stdout",
     "output_type": "stream",
     "text": [
      "input\n",
      "voxelization\n",
      "Voxels shape: (752,)\n",
      "Voxel with grid_index: (2, 14, 7), color: (0.571552, 0.672026, 0.371299)\n"
     ]
    }
   ],
   "source": [
    "print('input')\n",
    "armadillo = o3d.data.ArmadilloMesh()\n",
    "mesh = o3d.io.read_triangle_mesh(armadillo.path)\n",
    "\n",
    "N = 2000\n",
    "pcd = mesh.sample_points_poisson_disk(N)\n",
    "# fit to unit cube\n",
    "pcd.scale(1 / np.max(pcd.get_max_bound() - pcd.get_min_bound()),\n",
    "          center=pcd.get_center())\n",
    "pcd.colors = o3d.utility.Vector3dVector(np.random.uniform(0, 1, size=(N, 3)))\n",
    "#o3d.visualization.draw_geometries([pcd])\n",
    "\n",
    "print('voxelization')\n",
    "voxel_grid = o3d.geometry.VoxelGrid.create_from_point_cloud(pcd,\n",
    "                                                            voxel_size=0.05)\n",
    "voxels = np.asarray(voxel_grid.get_voxels())\n",
    "print(\"Voxels shape:\", voxels.shape)\n",
    "o3d.visualization.draw_geometries([voxel_grid])\n",
    "print(voxels[0])"
   ]
  }
 ],
 "metadata": {
  "kernelspec": {
   "display_name": "clip",
   "language": "python",
   "name": "python3"
  },
  "language_info": {
   "codemirror_mode": {
    "name": "ipython",
    "version": 3
   },
   "file_extension": ".py",
   "mimetype": "text/x-python",
   "name": "python",
   "nbconvert_exporter": "python",
   "pygments_lexer": "ipython3",
   "version": "3.10.13"
  }
 },
 "nbformat": 4,
 "nbformat_minor": 2
}
